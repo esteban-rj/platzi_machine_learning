{
 "cells": [
  {
   "cell_type": "code",
   "execution_count": 3,
   "id": "8458ef6f",
   "metadata": {},
   "outputs": [],
   "source": [
    "%matplotlib inline\n",
    "\n",
    "import numpy as np\n",
    "import matplotlib.pyplot as plt\n"
   ]
  },
  {
   "cell_type": "code",
   "execution_count": 4,
   "id": "d9f78a8c",
   "metadata": {},
   "outputs": [
    {
     "name": "stdout",
     "output_type": "stream",
     "text": [
      "[[3 2]\n",
      " [4 1]]\n"
     ]
    }
   ],
   "source": [
    "X = np.array([[3, 2], [4, 1]])\n",
    "print(X)"
   ]
  },
  {
   "cell_type": "code",
   "execution_count": 7,
   "id": "014fc163",
   "metadata": {},
   "outputs": [
    {
     "name": "stdout",
     "output_type": "stream",
     "text": [
      "EigResult(eigenvalues=array([ 5., -1.]), eigenvectors=array([[ 0.70710678, -0.4472136 ],\n",
      "       [ 0.70710678,  0.89442719]]))\n",
      "[ 5. -1.]\n",
      "[[ 0.70710678 -0.4472136 ]\n",
      " [ 0.70710678  0.89442719]]\n"
     ]
    }
   ],
   "source": [
    "print(np.linalg.eig(X))\n",
    "autovalores, autovectores = np.linalg.eig(X)\n",
    "print(autovalores)\n",
    "print(autovectores)\n"
   ]
  },
  {
   "cell_type": "code",
   "execution_count": 9,
   "id": "4d39a186",
   "metadata": {},
   "outputs": [
    {
     "name": "stdout",
     "output_type": "stream",
     "text": [
      "[0.70710678 0.70710678]\n",
      "[-0.4472136   0.89442719]\n"
     ]
    }
   ],
   "source": [
    "print(autovectores[:, 0])\n",
    "print(autovectores[:, 1])"
   ]
  },
  {
   "cell_type": "code",
   "execution_count": 11,
   "id": "9d410caa",
   "metadata": {},
   "outputs": [],
   "source": [
    "%run \"graficarVectores.ipynb\""
   ]
  },
  {
   "cell_type": "code",
   "execution_count": 30,
   "id": "db759860",
   "metadata": {},
   "outputs": [],
   "source": [
    "v = np.array([[-1], [2]])\n",
    "Xv = X.dot(v)\n",
    "v_np = autovectores[:, 0]\n",
    "v_np_2 = autovectores[:, 1]"
   ]
  },
  {
   "cell_type": "code",
   "execution_count": 39,
   "id": "693cf8e2",
   "metadata": {},
   "outputs": [
    {
     "name": "stdout",
     "output_type": "stream",
     "text": [
      "[3 2]\n",
      "[4 1]\n"
     ]
    }
   ],
   "source": [
    "print(X[0, :].flatten())\n",
    "print(X[1, :].flatten())"
   ]
  },
  {
   "cell_type": "code",
   "execution_count": null,
   "id": "6a103bf1",
   "metadata": {},
   "outputs": [
    {
     "data": {
      "text/plain": [
       "(-7.0, 3.0)"
      ]
     },
     "execution_count": 42,
     "metadata": {},
     "output_type": "execute_result"
    },
    {
     "data": {
      "image/png": "[encoded data removed]",
      "text/plain": [
       "<Figure size 640x480 with 1 Axes>"
      ]
     },
     "metadata": {},
     "output_type": "display_data"
    }
   ],
   "source": [
    "graficarVectores([Xv.flatten(), v_np, v.flatten(), v_np_2], cols=[\"red\", \"blue\", \"green\", \"yellow\", \"purple\", \"orange\"])\n",
    "plt.ylim(-4, 5)\n",
    "plt.xlim(-7, 3)"
   ]
  }
 ],
 "metadata": {
  "kernelspec": {
   "display_name": "platzi-machine-learning-6yXg-svX-py3.12",
   "language": "python",
   "name": "python3"
  },
  "language_info": {
   "codemirror_mode": {
    "name": "ipython",
    "version": 3
   },
   "file_extension": ".py",
   "mimetype": "text/x-python",
   "name": "python",
   "nbconvert_exporter": "python",
   "pygments_lexer": "ipython3",
   "version": "3.12.4"
  }
 },
 "nbformat": 4,
 "nbformat_minor": 5
}
