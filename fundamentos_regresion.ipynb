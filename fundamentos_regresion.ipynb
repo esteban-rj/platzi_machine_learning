{
 "cells": [
  {
   "cell_type": "code",
   "execution_count": null,
   "id": "b926cb72",
   "metadata": {},
   "outputs": [],
   "source": [
    "import pandas as pd\n",
    "from sklearn.model_selection import train_test_split\n",
    "from sklearn.linear_model import LinearRegression\n",
    "from sklearn.metrics import mean_squared_error\n",
    "\n",
    "df_partidos = pd.read_csv(\"./data/partidos_cebollitas.csv\")\n",
    "\n",
    "df_partidos[\"diferencia_goles\"] = df_partidos[\"goles_local\"] - df_partidos[\"goles_visitante\"]\n",
    "\n",
    "X = df_partidos[(df_partidos[\"equipo_local\"] == \"Cebollitas FC\")][[\"posesion_local (%)\", \"tiros_arco_local\"]]\n",
    "y = df_partidos[(df_partidos[\"equipo_local\"] == \"Cebollitas FC\")][\"diferencia_goles\"]\n",
    "\n",
    "X_train, X_test, y_train, y_test = train_test_split(X, y, test_size=0.2, random_state=42)"
   ]
  },
  {
   "cell_type": "code",
   "execution_count": null,
   "id": "76d1afef",
   "metadata": {},
   "outputs": [
    {
     "name": "stdout",
     "output_type": "stream",
     "text": [
      "[ 0.02996299 -0.3743741 ]\n",
      "0.9306240604681209\n",
      "posesion_local (%): 0.029962992254333142\n",
      "tiros_arco_local: -0.37437409820032463\n"
     ]
    }
   ],
   "source": [
    "from sklearn.linear_model import LinearRegression\n",
    "\n",
    "modelo = LinearRegression()\n",
    "modelo.fit(X_train, y_train)\n",
    "\n",
    "print(modelo.coef_)\n",
    "print(modelo.intercept_)\n",
    "\n",
    "for idx, col in enumerate(X.columns):\n",
    "    print(f\"{col}: {modelo.coef_[idx]}\")"
   ]
  },
  {
   "cell_type": "code",
   "execution_count": null,
   "id": "a2edae99",
   "metadata": {},
   "outputs": [
    {
     "data": {
      "text/html": [
       "<div>\n",
       "<style scoped>\n",
       "    .dataframe tbody tr th:only-of-type {\n",
       "        vertical-align: middle;\n",
       "    }\n",
       "\n",
       "    .dataframe tbody tr th {\n",
       "        vertical-align: top;\n",
       "    }\n",
       "\n",
       "    .dataframe thead th {\n",
       "        text-align: right;\n",
       "    }\n",
       "</style>\n",
       "<table border=\"1\" class=\"dataframe\">\n",
       "  <thead>\n",
       "    <tr style=\"text-align: right;\">\n",
       "      <th></th>\n",
       "      <th>Actual</th>\n",
       "      <th>Predicted</th>\n",
       "    </tr>\n",
       "  </thead>\n",
       "  <tbody>\n",
       "    <tr>\n",
       "      <th>37</th>\n",
       "      <td>-1</td>\n",
       "      <td>-1.479600</td>\n",
       "    </tr>\n",
       "    <tr>\n",
       "      <th>67</th>\n",
       "      <td>3</td>\n",
       "      <td>-1.764086</td>\n",
       "    </tr>\n",
       "    <tr>\n",
       "      <th>2</th>\n",
       "      <td>1</td>\n",
       "      <td>-1.165152</td>\n",
       "    </tr>\n",
       "    <tr>\n",
       "      <th>94</th>\n",
       "      <td>0</td>\n",
       "      <td>0.437051</td>\n",
       "    </tr>\n",
       "    <tr>\n",
       "      <th>45</th>\n",
       "      <td>3</td>\n",
       "      <td>0.017896</td>\n",
       "    </tr>\n",
       "    <tr>\n",
       "      <th>38</th>\n",
       "      <td>0</td>\n",
       "      <td>-1.255041</td>\n",
       "    </tr>\n",
       "  </tbody>\n",
       "</table>\n",
       "</div>"
      ],
      "text/plain": [
       "    Actual  Predicted\n",
       "37      -1  -1.479600\n",
       "67       3  -1.764086\n",
       "2        1  -1.165152\n",
       "94       0   0.437051\n",
       "45       3   0.017896\n",
       "38       0  -1.255041"
      ]
     },
     "execution_count": 18,
     "metadata": {},
     "output_type": "execute_result"
    }
   ],
   "source": [
    "y_pred = modelo.predict(X_test)\n",
    "\n",
    "df_resultados = pd.DataFrame({\"Actual\": y_test, \"Predicted\": y_pred})\n",
    "df_resultados.head(9)"
   ]
  },
  {
   "cell_type": "code",
   "execution_count": null,
   "id": "18638d66",
   "metadata": {},
   "outputs": [
    {
     "data": {
      "image/png": "[encoded data removed]",
      "text/plain": [
       "<Figure size 1000x600 with 1 Axes>"
      ]
     },
     "metadata": {},
     "output_type": "display_data"
    }
   ],
   "source": [
    "import matplotlib.pyplot as plt\n",
    "import seaborn as sns\n",
    "\n",
    "plt.figure(figsize=(10, 6))\n",
    "\n",
    "sns.scatterplot(x = y_test, y = y_pred)\n",
    "plt.title(\"Actual vs Predicted\")\n",
    "plt.xlabel(\"Actual\")\n",
    "plt.ylabel(\"Predicted\")\n",
    "plt.axline((0, 0), (1, 1), color=\"red\")\n",
    "plt.show()"
   ]
  },
  {
   "cell_type": "code",
   "execution_count": null,
   "id": "43844be7",
   "metadata": {},
   "outputs": [
    {
     "data": {
      "application/vnd.jupyter.widget-view+json": {
       "model_id": "daefbe7fccf0478da6b68e6e58735265",
       "version_major": 2,
       "version_minor": 0
      },
      "text/plain": [
       "VBox(children=(FloatSlider(value=30.0, description='Posecion (%)', max=70.0, min=30.0, step=1.0), FloatSlider(…"
      ]
     },
     "execution_count": 23,
     "metadata": {},
     "output_type": "execute_result"
    }
   ],
   "source": [
    "import ipywidgets as widgets\n",
    "\n",
    "posesion_input = widgets.FloatSlider(min=30, max=70, step=1, description=\"Posecion (%)\")\n",
    "tiros_arco_input = widgets.FloatSlider(min=1, max=15, step=1, description=\"Tiros de arco\")\n",
    "\n",
    "def predecir_goles(posesion, tiros_arco):\n",
    "    modelo = LinearRegression()\n",
    "    modelo.fit(X_train, y_train)\n",
    "    return modelo.predict([[posesion, tiros_arco]])\n",
    "\n",
    "widgets.interactive(predecir_goles, posesion=posesion_input, tiros_arco=tiros_arco_input)"
   ]
  }
 ],
 "metadata": {
  "kernelspec": {
   "display_name": "platzi-machine-learning-6yXg-svX-py3.12",
   "language": "python",
   "name": "python3"
  },
  "language_info": {
   "codemirror_mode": {
    "name": "ipython",
    "version": 3
   },
   "file_extension": ".py",
   "mimetype": "text/x-python",
   "name": "python",
   "nbconvert_exporter": "python",
   "pygments_lexer": "ipython3",
   "version": "3.12.4"
  }
 },
 "nbformat": 4,
 "nbformat_minor": 5
}
